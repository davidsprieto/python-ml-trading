{
 "cells": [
  {
   "cell_type": "markdown",
   "id": "a55671cdf5ee605e",
   "metadata": {},
   "source": [
    "# Imports\n"
   ]
  },
  {
   "cell_type": "code",
   "id": "9b04539c788d4642",
   "metadata": {
    "ExecuteTime": {
     "end_time": "2025-10-16T20:10:30.994827Z",
     "start_time": "2025-10-16T20:10:30.148154Z"
    }
   },
   "source": [
    "import pandas as pd\n",
    "import numpy as np\n",
    "import seaborn as sns\n",
    "from datetime import date as date\n",
    "import yfinance as yf\n",
    "from utils.my_functions import unify_column_names\n",
    "from hmmlearn.hmm import GaussianHMM\n",
    "import matplotlib.pyplot as plt\n",
    "%matplotlib inline"
   ],
   "outputs": [],
   "execution_count": 1
  },
  {
   "cell_type": "markdown",
   "id": "75c1541b42f5be16",
   "metadata": {},
   "source": [
    "# Data Management"
   ]
  },
  {
   "cell_type": "code",
   "id": "fe56f2a0843d61c3",
   "metadata": {
    "ExecuteTime": {
     "end_time": "2025-10-16T20:10:45.724554Z",
     "start_time": "2025-10-16T20:10:44.531439Z"
    }
   },
   "source": [
    "# Data extraction\n",
    "start_date = '2015-09-18'\n",
    "end_date = date.today()\n",
    "symbol = 'SPY'\n",
    "data = yf.download(symbol, start_date, end_date, auto_adjust=True)\n",
    "data"
   ],
   "outputs": [
    {
     "name": "stderr",
     "output_type": "stream",
     "text": [
      "[*********************100%***********************]  1 of 1 completed\n"
     ]
    },
    {
     "data": {
      "text/plain": [
       "Price            Close        High         Low        Open     Volume\n",
       "Ticker             SPY         SPY         SPY         SPY        SPY\n",
       "Date                                                                 \n",
       "2015-09-18  165.157913  167.887304  164.743865  165.377625  223657500\n",
       "2015-09-21  166.011459  167.042365  164.955192  165.994555  105726200\n",
       "2015-09-22  163.856598  164.321358  162.715824  163.831249  153890900\n",
       "2015-09-23  163.594696  164.498854  163.011634  164.025648   92790600\n",
       "2015-09-24  163.003159  163.467919  161.025829  162.369398  159378800\n",
       "...                ...         ...         ...         ...        ...\n",
       "2025-10-09  671.159973  673.940002  669.210022  673.530029   66501900\n",
       "2025-10-10  653.020020  673.950012  652.840027  672.130005  159422600\n",
       "2025-10-13  663.039978  665.130005  659.770020  660.650024   79560500\n",
       "2025-10-14  662.229980  665.830017  653.169983  657.169983   88779600\n",
       "2025-10-15  665.169983  670.229980  658.929993  666.820007   81702600\n",
       "\n",
       "[2534 rows x 5 columns]"
      ],
      "text/html": [
       "<div>\n",
       "<style scoped>\n",
       "    .dataframe tbody tr th:only-of-type {\n",
       "        vertical-align: middle;\n",
       "    }\n",
       "\n",
       "    .dataframe tbody tr th {\n",
       "        vertical-align: top;\n",
       "    }\n",
       "\n",
       "    .dataframe thead tr th {\n",
       "        text-align: left;\n",
       "    }\n",
       "\n",
       "    .dataframe thead tr:last-of-type th {\n",
       "        text-align: right;\n",
       "    }\n",
       "</style>\n",
       "<table border=\"1\" class=\"dataframe\">\n",
       "  <thead>\n",
       "    <tr>\n",
       "      <th>Price</th>\n",
       "      <th>Close</th>\n",
       "      <th>High</th>\n",
       "      <th>Low</th>\n",
       "      <th>Open</th>\n",
       "      <th>Volume</th>\n",
       "    </tr>\n",
       "    <tr>\n",
       "      <th>Ticker</th>\n",
       "      <th>SPY</th>\n",
       "      <th>SPY</th>\n",
       "      <th>SPY</th>\n",
       "      <th>SPY</th>\n",
       "      <th>SPY</th>\n",
       "    </tr>\n",
       "    <tr>\n",
       "      <th>Date</th>\n",
       "      <th></th>\n",
       "      <th></th>\n",
       "      <th></th>\n",
       "      <th></th>\n",
       "      <th></th>\n",
       "    </tr>\n",
       "  </thead>\n",
       "  <tbody>\n",
       "    <tr>\n",
       "      <th>2015-09-18</th>\n",
       "      <td>165.157913</td>\n",
       "      <td>167.887304</td>\n",
       "      <td>164.743865</td>\n",
       "      <td>165.377625</td>\n",
       "      <td>223657500</td>\n",
       "    </tr>\n",
       "    <tr>\n",
       "      <th>2015-09-21</th>\n",
       "      <td>166.011459</td>\n",
       "      <td>167.042365</td>\n",
       "      <td>164.955192</td>\n",
       "      <td>165.994555</td>\n",
       "      <td>105726200</td>\n",
       "    </tr>\n",
       "    <tr>\n",
       "      <th>2015-09-22</th>\n",
       "      <td>163.856598</td>\n",
       "      <td>164.321358</td>\n",
       "      <td>162.715824</td>\n",
       "      <td>163.831249</td>\n",
       "      <td>153890900</td>\n",
       "    </tr>\n",
       "    <tr>\n",
       "      <th>2015-09-23</th>\n",
       "      <td>163.594696</td>\n",
       "      <td>164.498854</td>\n",
       "      <td>163.011634</td>\n",
       "      <td>164.025648</td>\n",
       "      <td>92790600</td>\n",
       "    </tr>\n",
       "    <tr>\n",
       "      <th>2015-09-24</th>\n",
       "      <td>163.003159</td>\n",
       "      <td>163.467919</td>\n",
       "      <td>161.025829</td>\n",
       "      <td>162.369398</td>\n",
       "      <td>159378800</td>\n",
       "    </tr>\n",
       "    <tr>\n",
       "      <th>...</th>\n",
       "      <td>...</td>\n",
       "      <td>...</td>\n",
       "      <td>...</td>\n",
       "      <td>...</td>\n",
       "      <td>...</td>\n",
       "    </tr>\n",
       "    <tr>\n",
       "      <th>2025-10-09</th>\n",
       "      <td>671.159973</td>\n",
       "      <td>673.940002</td>\n",
       "      <td>669.210022</td>\n",
       "      <td>673.530029</td>\n",
       "      <td>66501900</td>\n",
       "    </tr>\n",
       "    <tr>\n",
       "      <th>2025-10-10</th>\n",
       "      <td>653.020020</td>\n",
       "      <td>673.950012</td>\n",
       "      <td>652.840027</td>\n",
       "      <td>672.130005</td>\n",
       "      <td>159422600</td>\n",
       "    </tr>\n",
       "    <tr>\n",
       "      <th>2025-10-13</th>\n",
       "      <td>663.039978</td>\n",
       "      <td>665.130005</td>\n",
       "      <td>659.770020</td>\n",
       "      <td>660.650024</td>\n",
       "      <td>79560500</td>\n",
       "    </tr>\n",
       "    <tr>\n",
       "      <th>2025-10-14</th>\n",
       "      <td>662.229980</td>\n",
       "      <td>665.830017</td>\n",
       "      <td>653.169983</td>\n",
       "      <td>657.169983</td>\n",
       "      <td>88779600</td>\n",
       "    </tr>\n",
       "    <tr>\n",
       "      <th>2025-10-15</th>\n",
       "      <td>665.169983</td>\n",
       "      <td>670.229980</td>\n",
       "      <td>658.929993</td>\n",
       "      <td>666.820007</td>\n",
       "      <td>81702600</td>\n",
       "    </tr>\n",
       "  </tbody>\n",
       "</table>\n",
       "<p>2534 rows × 5 columns</p>\n",
       "</div>"
      ]
     },
     "execution_count": 2,
     "metadata": {},
     "output_type": "execute_result"
    }
   ],
   "execution_count": 2
  },
  {
   "cell_type": "code",
   "id": "aff26b778568d56b",
   "metadata": {
    "ExecuteTime": {
     "end_time": "2025-10-16T20:10:47.020829Z",
     "start_time": "2025-10-16T20:10:47.015666Z"
    }
   },
   "source": [
    "print(data)"
   ],
   "outputs": [
    {
     "name": "stdout",
     "output_type": "stream",
     "text": [
      "Price            Close        High         Low        Open     Volume\n",
      "Ticker             SPY         SPY         SPY         SPY        SPY\n",
      "Date                                                                 \n",
      "2015-09-18  165.157913  167.887304  164.743865  165.377625  223657500\n",
      "2015-09-21  166.011459  167.042365  164.955192  165.994555  105726200\n",
      "2015-09-22  163.856598  164.321358  162.715824  163.831249  153890900\n",
      "2015-09-23  163.594696  164.498854  163.011634  164.025648   92790600\n",
      "2015-09-24  163.003159  163.467919  161.025829  162.369398  159378800\n",
      "...                ...         ...         ...         ...        ...\n",
      "2025-10-09  671.159973  673.940002  669.210022  673.530029   66501900\n",
      "2025-10-10  653.020020  673.950012  652.840027  672.130005  159422600\n",
      "2025-10-13  663.039978  665.130005  659.770020  660.650024   79560500\n",
      "2025-10-14  662.229980  665.830017  653.169983  657.169983   88779600\n",
      "2025-10-15  665.169983  670.229980  658.929993  666.820007   81702600\n",
      "\n",
      "[2534 rows x 5 columns]\n"
     ]
    }
   ],
   "execution_count": 3
  },
  {
   "cell_type": "code",
   "id": "32fb16f88d33cd48",
   "metadata": {
    "ExecuteTime": {
     "end_time": "2025-10-16T20:10:48.003971Z",
     "start_time": "2025-10-16T20:10:47.998675Z"
    }
   },
   "source": [
    "data.head(10)"
   ],
   "outputs": [
    {
     "data": {
      "text/plain": [
       "Price            Close        High         Low        Open     Volume\n",
       "Ticker             SPY         SPY         SPY         SPY        SPY\n",
       "Date                                                                 \n",
       "2015-09-18  165.157913  167.887304  164.743865  165.377625  223657500\n",
       "2015-09-21  166.011459  167.042365  164.955192  165.994555  105726200\n",
       "2015-09-22  163.856598  164.321358  162.715824  163.831249  153890900\n",
       "2015-09-23  163.594696  164.498854  163.011634  164.025648   92790600\n",
       "2015-09-24  163.003159  163.467919  161.025829  162.369398  159378800\n",
       "2015-09-25  162.960938  164.777712  162.082116  164.473507  155054800\n",
       "2015-09-28  158.871033  162.166594  158.558382  162.056738  178515900\n",
       "2015-09-29  158.963989  160.332920  157.958421  159.090749  159045600\n",
       "2015-09-30  161.929993  162.098993  160.079410  160.865267  163452000\n",
       "2015-10-01  162.352509  162.656714  160.400529  162.310255  131079000"
      ],
      "text/html": [
       "<div>\n",
       "<style scoped>\n",
       "    .dataframe tbody tr th:only-of-type {\n",
       "        vertical-align: middle;\n",
       "    }\n",
       "\n",
       "    .dataframe tbody tr th {\n",
       "        vertical-align: top;\n",
       "    }\n",
       "\n",
       "    .dataframe thead tr th {\n",
       "        text-align: left;\n",
       "    }\n",
       "\n",
       "    .dataframe thead tr:last-of-type th {\n",
       "        text-align: right;\n",
       "    }\n",
       "</style>\n",
       "<table border=\"1\" class=\"dataframe\">\n",
       "  <thead>\n",
       "    <tr>\n",
       "      <th>Price</th>\n",
       "      <th>Close</th>\n",
       "      <th>High</th>\n",
       "      <th>Low</th>\n",
       "      <th>Open</th>\n",
       "      <th>Volume</th>\n",
       "    </tr>\n",
       "    <tr>\n",
       "      <th>Ticker</th>\n",
       "      <th>SPY</th>\n",
       "      <th>SPY</th>\n",
       "      <th>SPY</th>\n",
       "      <th>SPY</th>\n",
       "      <th>SPY</th>\n",
       "    </tr>\n",
       "    <tr>\n",
       "      <th>Date</th>\n",
       "      <th></th>\n",
       "      <th></th>\n",
       "      <th></th>\n",
       "      <th></th>\n",
       "      <th></th>\n",
       "    </tr>\n",
       "  </thead>\n",
       "  <tbody>\n",
       "    <tr>\n",
       "      <th>2015-09-18</th>\n",
       "      <td>165.157913</td>\n",
       "      <td>167.887304</td>\n",
       "      <td>164.743865</td>\n",
       "      <td>165.377625</td>\n",
       "      <td>223657500</td>\n",
       "    </tr>\n",
       "    <tr>\n",
       "      <th>2015-09-21</th>\n",
       "      <td>166.011459</td>\n",
       "      <td>167.042365</td>\n",
       "      <td>164.955192</td>\n",
       "      <td>165.994555</td>\n",
       "      <td>105726200</td>\n",
       "    </tr>\n",
       "    <tr>\n",
       "      <th>2015-09-22</th>\n",
       "      <td>163.856598</td>\n",
       "      <td>164.321358</td>\n",
       "      <td>162.715824</td>\n",
       "      <td>163.831249</td>\n",
       "      <td>153890900</td>\n",
       "    </tr>\n",
       "    <tr>\n",
       "      <th>2015-09-23</th>\n",
       "      <td>163.594696</td>\n",
       "      <td>164.498854</td>\n",
       "      <td>163.011634</td>\n",
       "      <td>164.025648</td>\n",
       "      <td>92790600</td>\n",
       "    </tr>\n",
       "    <tr>\n",
       "      <th>2015-09-24</th>\n",
       "      <td>163.003159</td>\n",
       "      <td>163.467919</td>\n",
       "      <td>161.025829</td>\n",
       "      <td>162.369398</td>\n",
       "      <td>159378800</td>\n",
       "    </tr>\n",
       "    <tr>\n",
       "      <th>2015-09-25</th>\n",
       "      <td>162.960938</td>\n",
       "      <td>164.777712</td>\n",
       "      <td>162.082116</td>\n",
       "      <td>164.473507</td>\n",
       "      <td>155054800</td>\n",
       "    </tr>\n",
       "    <tr>\n",
       "      <th>2015-09-28</th>\n",
       "      <td>158.871033</td>\n",
       "      <td>162.166594</td>\n",
       "      <td>158.558382</td>\n",
       "      <td>162.056738</td>\n",
       "      <td>178515900</td>\n",
       "    </tr>\n",
       "    <tr>\n",
       "      <th>2015-09-29</th>\n",
       "      <td>158.963989</td>\n",
       "      <td>160.332920</td>\n",
       "      <td>157.958421</td>\n",
       "      <td>159.090749</td>\n",
       "      <td>159045600</td>\n",
       "    </tr>\n",
       "    <tr>\n",
       "      <th>2015-09-30</th>\n",
       "      <td>161.929993</td>\n",
       "      <td>162.098993</td>\n",
       "      <td>160.079410</td>\n",
       "      <td>160.865267</td>\n",
       "      <td>163452000</td>\n",
       "    </tr>\n",
       "    <tr>\n",
       "      <th>2015-10-01</th>\n",
       "      <td>162.352509</td>\n",
       "      <td>162.656714</td>\n",
       "      <td>160.400529</td>\n",
       "      <td>162.310255</td>\n",
       "      <td>131079000</td>\n",
       "    </tr>\n",
       "  </tbody>\n",
       "</table>\n",
       "</div>"
      ]
     },
     "execution_count": 4,
     "metadata": {},
     "output_type": "execute_result"
    }
   ],
   "execution_count": 4
  },
  {
   "cell_type": "code",
   "id": "c463a01923d57b86",
   "metadata": {
    "ExecuteTime": {
     "end_time": "2025-10-16T20:10:49.065502Z",
     "start_time": "2025-10-16T20:10:49.060774Z"
    }
   },
   "source": [
    "data.tail(10)"
   ],
   "outputs": [
    {
     "data": {
      "text/plain": [
       "Price            Close        High         Low        Open     Volume\n",
       "Ticker             SPY         SPY         SPY         SPY        SPY\n",
       "Date                                                                 \n",
       "2025-10-02  669.219971  670.570007  666.780029  670.450012   56896000\n",
       "2025-10-03  669.210022  672.679993  668.159973  669.989990   70494400\n",
       "2025-10-06  671.609985  672.510010  669.460022  671.619995   54623300\n",
       "2025-10-07  669.119995  672.989990  667.669983  672.539978   72020100\n",
       "2025-10-08  673.109985  673.210022  669.419983  670.250000   60702200\n",
       "2025-10-09  671.159973  673.940002  669.210022  673.530029   66501900\n",
       "2025-10-10  653.020020  673.950012  652.840027  672.130005  159422600\n",
       "2025-10-13  663.039978  665.130005  659.770020  660.650024   79560500\n",
       "2025-10-14  662.229980  665.830017  653.169983  657.169983   88779600\n",
       "2025-10-15  665.169983  670.229980  658.929993  666.820007   81702600"
      ],
      "text/html": [
       "<div>\n",
       "<style scoped>\n",
       "    .dataframe tbody tr th:only-of-type {\n",
       "        vertical-align: middle;\n",
       "    }\n",
       "\n",
       "    .dataframe tbody tr th {\n",
       "        vertical-align: top;\n",
       "    }\n",
       "\n",
       "    .dataframe thead tr th {\n",
       "        text-align: left;\n",
       "    }\n",
       "\n",
       "    .dataframe thead tr:last-of-type th {\n",
       "        text-align: right;\n",
       "    }\n",
       "</style>\n",
       "<table border=\"1\" class=\"dataframe\">\n",
       "  <thead>\n",
       "    <tr>\n",
       "      <th>Price</th>\n",
       "      <th>Close</th>\n",
       "      <th>High</th>\n",
       "      <th>Low</th>\n",
       "      <th>Open</th>\n",
       "      <th>Volume</th>\n",
       "    </tr>\n",
       "    <tr>\n",
       "      <th>Ticker</th>\n",
       "      <th>SPY</th>\n",
       "      <th>SPY</th>\n",
       "      <th>SPY</th>\n",
       "      <th>SPY</th>\n",
       "      <th>SPY</th>\n",
       "    </tr>\n",
       "    <tr>\n",
       "      <th>Date</th>\n",
       "      <th></th>\n",
       "      <th></th>\n",
       "      <th></th>\n",
       "      <th></th>\n",
       "      <th></th>\n",
       "    </tr>\n",
       "  </thead>\n",
       "  <tbody>\n",
       "    <tr>\n",
       "      <th>2025-10-02</th>\n",
       "      <td>669.219971</td>\n",
       "      <td>670.570007</td>\n",
       "      <td>666.780029</td>\n",
       "      <td>670.450012</td>\n",
       "      <td>56896000</td>\n",
       "    </tr>\n",
       "    <tr>\n",
       "      <th>2025-10-03</th>\n",
       "      <td>669.210022</td>\n",
       "      <td>672.679993</td>\n",
       "      <td>668.159973</td>\n",
       "      <td>669.989990</td>\n",
       "      <td>70494400</td>\n",
       "    </tr>\n",
       "    <tr>\n",
       "      <th>2025-10-06</th>\n",
       "      <td>671.609985</td>\n",
       "      <td>672.510010</td>\n",
       "      <td>669.460022</td>\n",
       "      <td>671.619995</td>\n",
       "      <td>54623300</td>\n",
       "    </tr>\n",
       "    <tr>\n",
       "      <th>2025-10-07</th>\n",
       "      <td>669.119995</td>\n",
       "      <td>672.989990</td>\n",
       "      <td>667.669983</td>\n",
       "      <td>672.539978</td>\n",
       "      <td>72020100</td>\n",
       "    </tr>\n",
       "    <tr>\n",
       "      <th>2025-10-08</th>\n",
       "      <td>673.109985</td>\n",
       "      <td>673.210022</td>\n",
       "      <td>669.419983</td>\n",
       "      <td>670.250000</td>\n",
       "      <td>60702200</td>\n",
       "    </tr>\n",
       "    <tr>\n",
       "      <th>2025-10-09</th>\n",
       "      <td>671.159973</td>\n",
       "      <td>673.940002</td>\n",
       "      <td>669.210022</td>\n",
       "      <td>673.530029</td>\n",
       "      <td>66501900</td>\n",
       "    </tr>\n",
       "    <tr>\n",
       "      <th>2025-10-10</th>\n",
       "      <td>653.020020</td>\n",
       "      <td>673.950012</td>\n",
       "      <td>652.840027</td>\n",
       "      <td>672.130005</td>\n",
       "      <td>159422600</td>\n",
       "    </tr>\n",
       "    <tr>\n",
       "      <th>2025-10-13</th>\n",
       "      <td>663.039978</td>\n",
       "      <td>665.130005</td>\n",
       "      <td>659.770020</td>\n",
       "      <td>660.650024</td>\n",
       "      <td>79560500</td>\n",
       "    </tr>\n",
       "    <tr>\n",
       "      <th>2025-10-14</th>\n",
       "      <td>662.229980</td>\n",
       "      <td>665.830017</td>\n",
       "      <td>653.169983</td>\n",
       "      <td>657.169983</td>\n",
       "      <td>88779600</td>\n",
       "    </tr>\n",
       "    <tr>\n",
       "      <th>2025-10-15</th>\n",
       "      <td>665.169983</td>\n",
       "      <td>670.229980</td>\n",
       "      <td>658.929993</td>\n",
       "      <td>666.820007</td>\n",
       "      <td>81702600</td>\n",
       "    </tr>\n",
       "  </tbody>\n",
       "</table>\n",
       "</div>"
      ]
     },
     "execution_count": 5,
     "metadata": {},
     "output_type": "execute_result"
    }
   ],
   "execution_count": 5
  },
  {
   "cell_type": "code",
   "id": "db93bad3ea03dfda",
   "metadata": {
    "ExecuteTime": {
     "end_time": "2025-10-16T20:10:49.900135Z",
     "start_time": "2025-10-16T20:10:49.886046Z"
    }
   },
   "source": [
    "data.describe()"
   ],
   "outputs": [
    {
     "data": {
      "text/plain": [
       "Price         Close         High          Low         Open        Volume\n",
       "Ticker          SPY          SPY          SPY          SPY           SPY\n",
       "count   2534.000000  2534.000000  2534.000000  2534.000000  2.534000e+03\n",
       "mean     343.530650   345.339053   341.416885   343.460294  8.345919e+07\n",
       "std      131.830898   132.436604   131.079341   131.806934  4.160811e+07\n",
       "min      155.438828   156.492885   153.874721   154.996802  2.027000e+07\n",
       "25%      236.436714   237.725472   234.681819   236.473281  5.769902e+07\n",
       "50%      316.131393   318.489420   313.857111   316.995917  7.375330e+07\n",
       "75%      425.010399   427.039528   422.572264   424.969327  9.621048e+07\n",
       "max      673.109985   673.950012   669.460022   673.530029  3.922207e+08"
      ],
      "text/html": [
       "<div>\n",
       "<style scoped>\n",
       "    .dataframe tbody tr th:only-of-type {\n",
       "        vertical-align: middle;\n",
       "    }\n",
       "\n",
       "    .dataframe tbody tr th {\n",
       "        vertical-align: top;\n",
       "    }\n",
       "\n",
       "    .dataframe thead tr th {\n",
       "        text-align: left;\n",
       "    }\n",
       "</style>\n",
       "<table border=\"1\" class=\"dataframe\">\n",
       "  <thead>\n",
       "    <tr>\n",
       "      <th>Price</th>\n",
       "      <th>Close</th>\n",
       "      <th>High</th>\n",
       "      <th>Low</th>\n",
       "      <th>Open</th>\n",
       "      <th>Volume</th>\n",
       "    </tr>\n",
       "    <tr>\n",
       "      <th>Ticker</th>\n",
       "      <th>SPY</th>\n",
       "      <th>SPY</th>\n",
       "      <th>SPY</th>\n",
       "      <th>SPY</th>\n",
       "      <th>SPY</th>\n",
       "    </tr>\n",
       "  </thead>\n",
       "  <tbody>\n",
       "    <tr>\n",
       "      <th>count</th>\n",
       "      <td>2534.000000</td>\n",
       "      <td>2534.000000</td>\n",
       "      <td>2534.000000</td>\n",
       "      <td>2534.000000</td>\n",
       "      <td>2.534000e+03</td>\n",
       "    </tr>\n",
       "    <tr>\n",
       "      <th>mean</th>\n",
       "      <td>343.530650</td>\n",
       "      <td>345.339053</td>\n",
       "      <td>341.416885</td>\n",
       "      <td>343.460294</td>\n",
       "      <td>8.345919e+07</td>\n",
       "    </tr>\n",
       "    <tr>\n",
       "      <th>std</th>\n",
       "      <td>131.830898</td>\n",
       "      <td>132.436604</td>\n",
       "      <td>131.079341</td>\n",
       "      <td>131.806934</td>\n",
       "      <td>4.160811e+07</td>\n",
       "    </tr>\n",
       "    <tr>\n",
       "      <th>min</th>\n",
       "      <td>155.438828</td>\n",
       "      <td>156.492885</td>\n",
       "      <td>153.874721</td>\n",
       "      <td>154.996802</td>\n",
       "      <td>2.027000e+07</td>\n",
       "    </tr>\n",
       "    <tr>\n",
       "      <th>25%</th>\n",
       "      <td>236.436714</td>\n",
       "      <td>237.725472</td>\n",
       "      <td>234.681819</td>\n",
       "      <td>236.473281</td>\n",
       "      <td>5.769902e+07</td>\n",
       "    </tr>\n",
       "    <tr>\n",
       "      <th>50%</th>\n",
       "      <td>316.131393</td>\n",
       "      <td>318.489420</td>\n",
       "      <td>313.857111</td>\n",
       "      <td>316.995917</td>\n",
       "      <td>7.375330e+07</td>\n",
       "    </tr>\n",
       "    <tr>\n",
       "      <th>75%</th>\n",
       "      <td>425.010399</td>\n",
       "      <td>427.039528</td>\n",
       "      <td>422.572264</td>\n",
       "      <td>424.969327</td>\n",
       "      <td>9.621048e+07</td>\n",
       "    </tr>\n",
       "    <tr>\n",
       "      <th>max</th>\n",
       "      <td>673.109985</td>\n",
       "      <td>673.950012</td>\n",
       "      <td>669.460022</td>\n",
       "      <td>673.530029</td>\n",
       "      <td>3.922207e+08</td>\n",
       "    </tr>\n",
       "  </tbody>\n",
       "</table>\n",
       "</div>"
      ]
     },
     "execution_count": 6,
     "metadata": {},
     "output_type": "execute_result"
    }
   ],
   "execution_count": 6
  },
  {
   "cell_type": "code",
   "id": "1eb3d6aecb5abf47",
   "metadata": {
    "ExecuteTime": {
     "end_time": "2025-10-16T20:10:50.893608Z",
     "start_time": "2025-10-16T20:10:50.877949Z"
    }
   },
   "source": [
    "data.info()"
   ],
   "outputs": [
    {
     "name": "stdout",
     "output_type": "stream",
     "text": [
      "<class 'pandas.core.frame.DataFrame'>\n",
      "DatetimeIndex: 2534 entries, 2015-09-18 to 2025-10-15\n",
      "Data columns (total 5 columns):\n",
      " #   Column         Non-Null Count  Dtype  \n",
      "---  ------         --------------  -----  \n",
      " 0   (Close, SPY)   2534 non-null   float64\n",
      " 1   (High, SPY)    2534 non-null   float64\n",
      " 2   (Low, SPY)     2534 non-null   float64\n",
      " 3   (Open, SPY)    2534 non-null   float64\n",
      " 4   (Volume, SPY)  2534 non-null   int64  \n",
      "dtypes: float64(4), int64(1)\n",
      "memory usage: 118.8 KB\n"
     ]
    }
   ],
   "execution_count": 7
  },
  {
   "cell_type": "code",
   "id": "11d3ea293ae440e",
   "metadata": {
    "ExecuteTime": {
     "end_time": "2025-10-16T20:10:53.158816Z",
     "start_time": "2025-10-16T20:10:53.155372Z"
    }
   },
   "source": [
    "# Apply transformation to column names\n",
    "data.columns = data.columns.map(unify_column_names)"
   ],
   "outputs": [],
   "execution_count": 8
  },
  {
   "cell_type": "code",
   "id": "2cd13281e75b06d",
   "metadata": {
    "ExecuteTime": {
     "end_time": "2025-10-16T20:10:54.761603Z",
     "start_time": "2025-10-16T20:10:54.758803Z"
    }
   },
   "source": [
    "print(f\"Unified columns names: \\n{data.columns}\")"
   ],
   "outputs": [
    {
     "name": "stdout",
     "output_type": "stream",
     "text": [
      "Unified columns names: \n",
      "MultiIndex([( 'close', 'spy'),\n",
      "            (  'high', 'spy'),\n",
      "            (   'low', 'spy'),\n",
      "            (  'open', 'spy'),\n",
      "            ('volume', 'spy')],\n",
      "           names=['Price', 'Ticker'])\n"
     ]
    }
   ],
   "execution_count": 9
  },
  {
   "cell_type": "code",
   "id": "8ae192780926ce3e",
   "metadata": {
    "ExecuteTime": {
     "end_time": "2025-08-05T23:44:57.827106Z",
     "start_time": "2025-08-05T23:44:57.822973Z"
    }
   },
   "source": [
    "# Add returns and range\n",
    "df = data.copy()\n",
    "df[\"returns\"] = df[\"close\"].pct_change()\n",
    "df[\"range\"] = (df[\"high\"] / df[\"low\"]) - 1"
   ],
   "outputs": [],
   "execution_count": 10
  },
  {
   "cell_type": "code",
   "id": "8f0b59f06cc9faf",
   "metadata": {
    "ExecuteTime": {
     "end_time": "2025-08-05T23:44:57.837350Z",
     "start_time": "2025-08-05T23:44:57.831705Z"
    }
   },
   "source": [
    "df.head(10)"
   ],
   "outputs": [
    {
     "data": {
      "text/plain": [
       "Price            close        high         low        open     volume  \\\n",
       "Ticker             spy         spy         spy         spy        spy   \n",
       "Date                                                                    \n",
       "2015-09-18  165.615829  168.352787  165.200633  165.836150  223657500   \n",
       "2015-09-21  166.471710  167.505474  165.412514  166.454759  105726200   \n",
       "2015-09-22  164.310898  164.776946  163.166961  164.285478  153890900   \n",
       "2015-09-23  164.048248  164.954913  163.463570  164.480396   92790600   \n",
       "2015-09-24  163.455063  163.921112  161.472252  162.819545  159378800   \n",
       "2015-09-25  163.412720  165.234531  162.531462  164.929482  155054800   \n",
       "2015-09-28  159.311462  162.616160  158.997945  162.505999  178515900   \n",
       "2015-09-29  159.404709  160.777435  158.396353  159.531820  159045600   \n",
       "2015-09-30  162.378922  162.548390  160.523209  161.311244  163452000   \n",
       "2015-10-01  162.802612  163.107661  160.845221  162.760242  131079000   \n",
       "\n",
       "Price        returns     range  \n",
       "Ticker                          \n",
       "Date                            \n",
       "2015-09-18       NaN  0.019081  \n",
       "2015-09-21  0.005168  0.012653  \n",
       "2015-09-22 -0.012980  0.009867  \n",
       "2015-09-23 -0.001598  0.009123  \n",
       "2015-09-24 -0.003616  0.015166  \n",
       "2015-09-25 -0.000259  0.016631  \n",
       "2015-09-28 -0.025098  0.022756  \n",
       "2015-09-29  0.000585  0.015032  \n",
       "2015-09-30  0.018658  0.012616  \n",
       "2015-10-01  0.002609  0.014066  "
      ],
      "text/html": [
       "<div>\n",
       "<style scoped>\n",
       "    .dataframe tbody tr th:only-of-type {\n",
       "        vertical-align: middle;\n",
       "    }\n",
       "\n",
       "    .dataframe tbody tr th {\n",
       "        vertical-align: top;\n",
       "    }\n",
       "\n",
       "    .dataframe thead tr th {\n",
       "        text-align: left;\n",
       "    }\n",
       "\n",
       "    .dataframe thead tr:last-of-type th {\n",
       "        text-align: right;\n",
       "    }\n",
       "</style>\n",
       "<table border=\"1\" class=\"dataframe\">\n",
       "  <thead>\n",
       "    <tr>\n",
       "      <th>Price</th>\n",
       "      <th>close</th>\n",
       "      <th>high</th>\n",
       "      <th>low</th>\n",
       "      <th>open</th>\n",
       "      <th>volume</th>\n",
       "      <th>returns</th>\n",
       "      <th>range</th>\n",
       "    </tr>\n",
       "    <tr>\n",
       "      <th>Ticker</th>\n",
       "      <th>spy</th>\n",
       "      <th>spy</th>\n",
       "      <th>spy</th>\n",
       "      <th>spy</th>\n",
       "      <th>spy</th>\n",
       "      <th></th>\n",
       "      <th></th>\n",
       "    </tr>\n",
       "    <tr>\n",
       "      <th>Date</th>\n",
       "      <th></th>\n",
       "      <th></th>\n",
       "      <th></th>\n",
       "      <th></th>\n",
       "      <th></th>\n",
       "      <th></th>\n",
       "      <th></th>\n",
       "    </tr>\n",
       "  </thead>\n",
       "  <tbody>\n",
       "    <tr>\n",
       "      <th>2015-09-18</th>\n",
       "      <td>165.615829</td>\n",
       "      <td>168.352787</td>\n",
       "      <td>165.200633</td>\n",
       "      <td>165.836150</td>\n",
       "      <td>223657500</td>\n",
       "      <td>NaN</td>\n",
       "      <td>0.019081</td>\n",
       "    </tr>\n",
       "    <tr>\n",
       "      <th>2015-09-21</th>\n",
       "      <td>166.471710</td>\n",
       "      <td>167.505474</td>\n",
       "      <td>165.412514</td>\n",
       "      <td>166.454759</td>\n",
       "      <td>105726200</td>\n",
       "      <td>0.005168</td>\n",
       "      <td>0.012653</td>\n",
       "    </tr>\n",
       "    <tr>\n",
       "      <th>2015-09-22</th>\n",
       "      <td>164.310898</td>\n",
       "      <td>164.776946</td>\n",
       "      <td>163.166961</td>\n",
       "      <td>164.285478</td>\n",
       "      <td>153890900</td>\n",
       "      <td>-0.012980</td>\n",
       "      <td>0.009867</td>\n",
       "    </tr>\n",
       "    <tr>\n",
       "      <th>2015-09-23</th>\n",
       "      <td>164.048248</td>\n",
       "      <td>164.954913</td>\n",
       "      <td>163.463570</td>\n",
       "      <td>164.480396</td>\n",
       "      <td>92790600</td>\n",
       "      <td>-0.001598</td>\n",
       "      <td>0.009123</td>\n",
       "    </tr>\n",
       "    <tr>\n",
       "      <th>2015-09-24</th>\n",
       "      <td>163.455063</td>\n",
       "      <td>163.921112</td>\n",
       "      <td>161.472252</td>\n",
       "      <td>162.819545</td>\n",
       "      <td>159378800</td>\n",
       "      <td>-0.003616</td>\n",
       "      <td>0.015166</td>\n",
       "    </tr>\n",
       "    <tr>\n",
       "      <th>2015-09-25</th>\n",
       "      <td>163.412720</td>\n",
       "      <td>165.234531</td>\n",
       "      <td>162.531462</td>\n",
       "      <td>164.929482</td>\n",
       "      <td>155054800</td>\n",
       "      <td>-0.000259</td>\n",
       "      <td>0.016631</td>\n",
       "    </tr>\n",
       "    <tr>\n",
       "      <th>2015-09-28</th>\n",
       "      <td>159.311462</td>\n",
       "      <td>162.616160</td>\n",
       "      <td>158.997945</td>\n",
       "      <td>162.505999</td>\n",
       "      <td>178515900</td>\n",
       "      <td>-0.025098</td>\n",
       "      <td>0.022756</td>\n",
       "    </tr>\n",
       "    <tr>\n",
       "      <th>2015-09-29</th>\n",
       "      <td>159.404709</td>\n",
       "      <td>160.777435</td>\n",
       "      <td>158.396353</td>\n",
       "      <td>159.531820</td>\n",
       "      <td>159045600</td>\n",
       "      <td>0.000585</td>\n",
       "      <td>0.015032</td>\n",
       "    </tr>\n",
       "    <tr>\n",
       "      <th>2015-09-30</th>\n",
       "      <td>162.378922</td>\n",
       "      <td>162.548390</td>\n",
       "      <td>160.523209</td>\n",
       "      <td>161.311244</td>\n",
       "      <td>163452000</td>\n",
       "      <td>0.018658</td>\n",
       "      <td>0.012616</td>\n",
       "    </tr>\n",
       "    <tr>\n",
       "      <th>2015-10-01</th>\n",
       "      <td>162.802612</td>\n",
       "      <td>163.107661</td>\n",
       "      <td>160.845221</td>\n",
       "      <td>162.760242</td>\n",
       "      <td>131079000</td>\n",
       "      <td>0.002609</td>\n",
       "      <td>0.014066</td>\n",
       "    </tr>\n",
       "  </tbody>\n",
       "</table>\n",
       "</div>"
      ]
     },
     "execution_count": 11,
     "metadata": {},
     "output_type": "execute_result"
    }
   ],
   "execution_count": 11
  },
  {
   "cell_type": "code",
   "id": "43a759231f4c990e",
   "metadata": {
    "ExecuteTime": {
     "end_time": "2025-08-05T23:44:57.846105Z",
     "start_time": "2025-08-05T23:44:57.842147Z"
    }
   },
   "source": [
    "# Determine the total of NA values and drop them\n",
    "na_count = df.isna().sum().sum()\n",
    "if na_count > 0:\n",
    "    print(f\"Dropping {na_count} NA value(s)\")\n",
    "    df.dropna(inplace=True)"
   ],
   "outputs": [
    {
     "name": "stdout",
     "output_type": "stream",
     "text": [
      "Dropping 1 NA value(s)\n"
     ]
    }
   ],
   "execution_count": 12
  },
  {
   "cell_type": "code",
   "id": "8b19ef4f9bff218e",
   "metadata": {
    "ExecuteTime": {
     "end_time": "2025-08-05T23:44:57.871481Z",
     "start_time": "2025-08-05T23:44:57.866518Z"
    }
   },
   "source": [
    "# Structure data\n",
    "X_train = df[[\"returns\", \"range\"]]\n",
    "X_train.head(10)"
   ],
   "outputs": [
    {
     "data": {
      "text/plain": [
       "Price        returns     range\n",
       "Ticker                        \n",
       "Date                          \n",
       "2015-09-21  0.005168  0.012653\n",
       "2015-09-22 -0.012980  0.009867\n",
       "2015-09-23 -0.001598  0.009123\n",
       "2015-09-24 -0.003616  0.015166\n",
       "2015-09-25 -0.000259  0.016631\n",
       "2015-09-28 -0.025098  0.022756\n",
       "2015-09-29  0.000585  0.015032\n",
       "2015-09-30  0.018658  0.012616\n",
       "2015-10-01  0.002609  0.014066\n",
       "2015-10-02  0.014938  0.031250"
      ],
      "text/html": [
       "<div>\n",
       "<style scoped>\n",
       "    .dataframe tbody tr th:only-of-type {\n",
       "        vertical-align: middle;\n",
       "    }\n",
       "\n",
       "    .dataframe tbody tr th {\n",
       "        vertical-align: top;\n",
       "    }\n",
       "\n",
       "    .dataframe thead tr th {\n",
       "        text-align: left;\n",
       "    }\n",
       "\n",
       "    .dataframe thead tr:last-of-type th {\n",
       "        text-align: right;\n",
       "    }\n",
       "</style>\n",
       "<table border=\"1\" class=\"dataframe\">\n",
       "  <thead>\n",
       "    <tr>\n",
       "      <th>Price</th>\n",
       "      <th>returns</th>\n",
       "      <th>range</th>\n",
       "    </tr>\n",
       "    <tr>\n",
       "      <th>Ticker</th>\n",
       "      <th></th>\n",
       "      <th></th>\n",
       "    </tr>\n",
       "    <tr>\n",
       "      <th>Date</th>\n",
       "      <th></th>\n",
       "      <th></th>\n",
       "    </tr>\n",
       "  </thead>\n",
       "  <tbody>\n",
       "    <tr>\n",
       "      <th>2015-09-21</th>\n",
       "      <td>0.005168</td>\n",
       "      <td>0.012653</td>\n",
       "    </tr>\n",
       "    <tr>\n",
       "      <th>2015-09-22</th>\n",
       "      <td>-0.012980</td>\n",
       "      <td>0.009867</td>\n",
       "    </tr>\n",
       "    <tr>\n",
       "      <th>2015-09-23</th>\n",
       "      <td>-0.001598</td>\n",
       "      <td>0.009123</td>\n",
       "    </tr>\n",
       "    <tr>\n",
       "      <th>2015-09-24</th>\n",
       "      <td>-0.003616</td>\n",
       "      <td>0.015166</td>\n",
       "    </tr>\n",
       "    <tr>\n",
       "      <th>2015-09-25</th>\n",
       "      <td>-0.000259</td>\n",
       "      <td>0.016631</td>\n",
       "    </tr>\n",
       "    <tr>\n",
       "      <th>2015-09-28</th>\n",
       "      <td>-0.025098</td>\n",
       "      <td>0.022756</td>\n",
       "    </tr>\n",
       "    <tr>\n",
       "      <th>2015-09-29</th>\n",
       "      <td>0.000585</td>\n",
       "      <td>0.015032</td>\n",
       "    </tr>\n",
       "    <tr>\n",
       "      <th>2015-09-30</th>\n",
       "      <td>0.018658</td>\n",
       "      <td>0.012616</td>\n",
       "    </tr>\n",
       "    <tr>\n",
       "      <th>2015-10-01</th>\n",
       "      <td>0.002609</td>\n",
       "      <td>0.014066</td>\n",
       "    </tr>\n",
       "    <tr>\n",
       "      <th>2015-10-02</th>\n",
       "      <td>0.014938</td>\n",
       "      <td>0.031250</td>\n",
       "    </tr>\n",
       "  </tbody>\n",
       "</table>\n",
       "</div>"
      ]
     },
     "execution_count": 13,
     "metadata": {},
     "output_type": "execute_result"
    }
   ],
   "execution_count": 13
  },
  {
   "cell_type": "markdown",
   "id": "69c64d5ea51f8511",
   "metadata": {},
   "source": [
    "# HMM Learning"
   ]
  },
  {
   "cell_type": "code",
   "id": "21375f698f1f0cdf",
   "metadata": {
    "ExecuteTime": {
     "end_time": "2025-08-05T23:44:58.224848Z",
     "start_time": "2025-08-05T23:44:57.883139Z"
    }
   },
   "source": [
    "# Fit model\n",
    "hmm_model = GaussianHMM(n_components=4, covariance_type=\"full\", n_iter=1000, random_state=42).fit(X_train)\n",
    "hmm_model_score = hmm_model.score(X_train)\n",
    "print(f\"HMM score: {hmm_model_score}\")"
   ],
   "outputs": [
    {
     "name": "stderr",
     "output_type": "stream",
     "text": [
      "Model is not converging.  Current: 18065.161706442126 is not greater than 18065.209054341653. Delta is -0.04734789952635765\n"
     ]
    },
    {
     "name": "stdout",
     "output_type": "stream",
     "text": [
      "HMM score: 18065.046531647222\n"
     ]
    }
   ],
   "execution_count": 14
  },
  {
   "cell_type": "code",
   "id": "1c1ee87130f5e2f0",
   "metadata": {
    "ExecuteTime": {
     "end_time": "2025-08-05T23:44:58.233906Z",
     "start_time": "2025-08-05T23:44:58.228714Z"
    }
   },
   "source": [
    "# Check results\n",
    "hidden_states = hmm_model.predict(X_train)\n",
    "print(hidden_states[:100])\n",
    "print(len(hidden_states))"
   ],
   "outputs": [
    {
     "name": "stdout",
     "output_type": "stream",
     "text": [
      "[2 2 2 2 2 0 2 2 2 2 2 1 1 1 1 1 1 1 1 1 1 1 1 1 1 1 1 1 1 1 1 1 1 1 1 1 1\n",
      " 1 0 2 2 2 2 1 1 1 1 1 1 1 1 0 0 2 2 2 0 2 0 2 2 2 0 0 2 1 1 1 1 1 1 1 0 2\n",
      " 2 0 0 2 2 0 2 0 2 0 2 2 0 2 0 2 2 2 0 2 2 0 0 2 2 0]\n",
      "2482\n"
     ]
    }
   ],
   "execution_count": 15
  },
  {
   "cell_type": "code",
   "id": "f0a4e9792202a7c0",
   "metadata": {
    "ExecuteTime": {
     "end_time": "2025-08-05T23:44:58.245696Z",
     "start_time": "2025-08-05T23:44:58.241860Z"
    }
   },
   "source": [
    "dir(hmm_model)"
   ],
   "outputs": [
    {
     "data": {
      "text/plain": [
       "['__class__',\n",
       " '__delattr__',\n",
       " '__dict__',\n",
       " '__dir__',\n",
       " '__doc__',\n",
       " '__eq__',\n",
       " '__format__',\n",
       " '__ge__',\n",
       " '__getattribute__',\n",
       " '__getstate__',\n",
       " '__gt__',\n",
       " '__hash__',\n",
       " '__init__',\n",
       " '__init_subclass__',\n",
       " '__le__',\n",
       " '__lt__',\n",
       " '__module__',\n",
       " '__ne__',\n",
       " '__new__',\n",
       " '__reduce__',\n",
       " '__reduce_ex__',\n",
       " '__repr__',\n",
       " '__setattr__',\n",
       " '__setstate__',\n",
       " '__sizeof__',\n",
       " '__sklearn_clone__',\n",
       " '__sklearn_tags__',\n",
       " '__str__',\n",
       " '__subclasshook__',\n",
       " '__weakref__',\n",
       " '_accumulate_sufficient_statistics',\n",
       " '_accumulate_sufficient_statistics_log',\n",
       " '_accumulate_sufficient_statistics_scaling',\n",
       " '_build_request_for_signature',\n",
       " '_check',\n",
       " '_check_and_set_n_features',\n",
       " '_check_sum_1',\n",
       " '_compute_likelihood',\n",
       " '_compute_log_likelihood',\n",
       " '_compute_lower_bound',\n",
       " '_compute_posteriors_log',\n",
       " '_compute_posteriors_scaling',\n",
       " '_covars_',\n",
       " '_decode_map',\n",
       " '_decode_viterbi',\n",
       " '_do_estep',\n",
       " '_do_mstep',\n",
       " '_doc_link_module',\n",
       " '_doc_link_template',\n",
       " '_doc_link_url_param_generator',\n",
       " '_estep_begin',\n",
       " '_fit_log',\n",
       " '_fit_scaling',\n",
       " '_generate_sample_from_state',\n",
       " '_get_default_requests',\n",
       " '_get_doc_link',\n",
       " '_get_metadata_request',\n",
       " '_get_n_fit_scalars_per_param',\n",
       " '_get_param_names',\n",
       " '_get_params_html',\n",
       " '_html_repr',\n",
       " '_init',\n",
       " '_initialize_sufficient_statistics',\n",
       " '_needs_init',\n",
       " '_needs_sufficient_statistics_for_covars',\n",
       " '_needs_sufficient_statistics_for_mean',\n",
       " '_repr_html_',\n",
       " '_repr_html_inner',\n",
       " '_repr_mimebundle_',\n",
       " '_score',\n",
       " '_score_log',\n",
       " '_score_scaling',\n",
       " '_validate_params',\n",
       " 'aic',\n",
       " 'algorithm',\n",
       " 'bic',\n",
       " 'covariance_type',\n",
       " 'covars_',\n",
       " 'covars_prior',\n",
       " 'covars_weight',\n",
       " 'decode',\n",
       " 'fit',\n",
       " 'get_metadata_routing',\n",
       " 'get_params',\n",
       " 'get_stationary_distribution',\n",
       " 'implementation',\n",
       " 'init_params',\n",
       " 'means_',\n",
       " 'means_prior',\n",
       " 'means_weight',\n",
       " 'min_covar',\n",
       " 'monitor_',\n",
       " 'n_components',\n",
       " 'n_features',\n",
       " 'n_iter',\n",
       " 'params',\n",
       " 'predict',\n",
       " 'predict_proba',\n",
       " 'random_state',\n",
       " 'sample',\n",
       " 'score',\n",
       " 'score_samples',\n",
       " 'set_fit_request',\n",
       " 'set_params',\n",
       " 'set_predict_proba_request',\n",
       " 'set_predict_request',\n",
       " 'set_score_request',\n",
       " 'startprob_',\n",
       " 'startprob_prior',\n",
       " 'tol',\n",
       " 'transmat_',\n",
       " 'transmat_prior',\n",
       " 'verbose']"
      ]
     },
     "execution_count": 16,
     "metadata": {},
     "output_type": "execute_result"
    }
   ],
   "execution_count": 16
  },
  {
   "cell_type": "code",
   "id": "d6bc70ea44eff751",
   "metadata": {
    "ExecuteTime": {
     "end_time": "2025-08-05T23:44:58.255657Z",
     "start_time": "2025-08-05T23:44:58.253074Z"
    }
   },
   "source": [
    "# Regime state means for each feature\n",
    "hmm_model.means_"
   ],
   "outputs": [
    {
     "data": {
      "text/plain": [
       "array([[-0.01295798,  0.02126067],\n",
       "       [ 0.00153834,  0.00722223],\n",
       "       [ 0.00532609,  0.01460798],\n",
       "       [-0.00311355,  0.04878866]])"
      ]
     },
     "execution_count": 17,
     "metadata": {},
     "output_type": "execute_result"
    }
   ],
   "execution_count": 17
  },
  {
   "cell_type": "code",
   "id": "c78e6f0694189619",
   "metadata": {
    "ExecuteTime": {
     "end_time": "2025-08-05T23:44:58.274140Z",
     "start_time": "2025-08-05T23:44:58.270413Z"
    }
   },
   "source": [
    "# Regime state covariances\n",
    "hmm_model.covars_"
   ],
   "outputs": [
    {
     "data": {
      "text/plain": [
       "array([[[1.46300340e-04, 9.54729977e-06],\n",
       "        [9.54729977e-06, 9.95246673e-05]],\n",
       "\n",
       "       [[3.64505798e-05, 7.70478865e-06],\n",
       "        [7.70478865e-06, 1.61294988e-05]],\n",
       "\n",
       "       [[1.24746333e-04, 3.81626112e-05],\n",
       "        [3.81626112e-05, 4.77252822e-05]],\n",
       "\n",
       "       [[2.24810195e-03, 3.27610274e-04],\n",
       "        [3.27610274e-04, 5.94032271e-04]]])"
      ]
     },
     "execution_count": 18,
     "metadata": {},
     "output_type": "execute_result"
    }
   ],
   "execution_count": 18
  },
  {
   "cell_type": "markdown",
   "id": "390e9d84b2940f1b",
   "metadata": {},
   "source": [
    "# Data Visualization"
   ]
  },
  {
   "cell_type": "code",
   "id": "dc2492752597a29",
   "metadata": {
    "ExecuteTime": {
     "end_time": "2025-08-05T23:44:58.285457Z",
     "start_time": "2025-08-05T23:44:58.282384Z"
    }
   },
   "source": [
    "# Structure prices for plotting\n",
    "\n",
    "# Initialize lists for each hidden state\n",
    "labels_0 = []\n",
    "labels_1 = []\n",
    "labels_2 = []\n",
    "labels_3 = []\n",
    "\n",
    "# Convert close prices to NumPy array\n",
    "prices = df[\"close\"].values.astype(float)\n",
    "\n",
    "# Verify dimensions\n",
    "print(f\"Correct number of rows: {len(prices) == len(hidden_states)}\")"
   ],
   "outputs": [
    {
     "name": "stdout",
     "output_type": "stream",
     "text": [
      "Correct number of rows: True\n"
     ]
    }
   ],
   "execution_count": 19
  },
  {
   "cell_type": "code",
   "id": "ddbcaa633976409b",
   "metadata": {
    "ExecuteTime": {
     "end_time": "2025-08-05T23:44:58.300026Z",
     "start_time": "2025-08-05T23:44:58.292614Z"
    }
   },
   "source": [
    "# Assign prices to respective state labels, filling others with NaN\n",
    "for i, s in enumerate(hidden_states):\n",
    "    price_value = prices[i].item()\n",
    "\n",
    "    labels_0.append(price_value if s == 0 else np.nan)\n",
    "    labels_1.append(price_value if s == 1 else np.nan)\n",
    "    labels_2.append(price_value if s == 2 else np.nan)\n",
    "    labels_3.append(price_value if s == 3 else np.nan)"
   ],
   "outputs": [],
   "execution_count": 20
  },
  {
   "cell_type": "code",
   "id": "27c3623b582e1a7",
   "metadata": {
    "ExecuteTime": {
     "end_time": "2025-08-05T23:44:58.495089Z",
     "start_time": "2025-08-05T23:44:58.306277Z"
    }
   },
   "source": [
    "# Classify states based on means\n",
    "def classify_states_by_means(means):\n",
    "    \"\"\"Universal classification that adapts to any asset\"\"\"\n",
    "    returns = means[:, 0]\n",
    "    ranges = means[:, 1]\n",
    "\n",
    "    return_ranks = np.argsort(returns)\n",
    "\n",
    "    highest_return_state = return_ranks[-1]\n",
    "    second_highest_return_state = return_ranks[-2]\n",
    "    second_lowest_return_state = return_ranks[1]\n",
    "    lowest_return_state = return_ranks[0]\n",
    "\n",
    "    state_colors = {}\n",
    "    assigned = set()\n",
    "\n",
    "    # Assign colors based on return magnitude\n",
    "    if returns[highest_return_state] > 0:\n",
    "        # If highest return is very high, use green\n",
    "        # If moderate, use light green\n",
    "        if returns[highest_return_state] > 0.02:  # High threshold\n",
    "            state_colors[highest_return_state] = 'green'\n",
    "        else:\n",
    "            state_colors[highest_return_state] = 'lightgreen'\n",
    "        assigned.add(highest_return_state)\n",
    "\n",
    "    if returns[second_highest_return_state] > 0:\n",
    "        # Assign opposite shade from highest\n",
    "        if returns[highest_return_state] > 0.02:\n",
    "            state_colors[second_highest_return_state] = 'lightgreen'\n",
    "        else:\n",
    "            state_colors[second_highest_return_state] = 'green'\n",
    "        assigned.add(second_highest_return_state)\n",
    "\n",
    "    if returns[lowest_return_state] < 0:\n",
    "        # If lowest return is very low, use red\n",
    "        # If moderate, use orange\n",
    "        if returns[lowest_return_state] < -0.02:  # Low threshold (negative)\n",
    "            state_colors[lowest_return_state] = 'red'\n",
    "        else:\n",
    "            state_colors[lowest_return_state] = 'orange'\n",
    "        assigned.add(lowest_return_state)\n",
    "\n",
    "    if returns[second_lowest_return_state] < 0:\n",
    "        # Assign opposite shade from lowest\n",
    "        if returns[lowest_return_state] < -0.02:\n",
    "            state_colors[second_lowest_return_state] = 'orange'\n",
    "        else:\n",
    "            state_colors[second_lowest_return_state] = 'red'\n",
    "        assigned.add(second_lowest_return_state)\n",
    "\n",
    "    return state_colors\n",
    "\n",
    "# Test it\n",
    "dynamic_colors = classify_states_by_means(hmm_model.means_)\n",
    "print(\"\\nFinal colors:\")\n",
    "for i in range(4):\n",
    "    mean = hmm_model.means_[i]\n",
    "    print(f\"State {i}: Returns={mean[0]:.6f}, Range={mean[1]:.6f} -> {dynamic_colors[i]}\")\n",
    "\n",
    "# Plot chart with dynamic colors\n",
    "dates = df.index\n",
    "prices = df['close']\n",
    "\n",
    "fig = plt.figure(figsize=(18, 8))\n",
    "plt.plot(dates, prices, color='black', alpha=0.7, label=f'{symbol} Price')\n",
    "\n",
    "# Use dynamic colors instead of hardcoded ones\n",
    "plt.plot(dates, labels_0, color=dynamic_colors[0], label=f'State 0 ({dynamic_colors[0]})')\n",
    "plt.plot(dates, labels_1, color=dynamic_colors[1], label=f'State 1 ({dynamic_colors[1]})')\n",
    "plt.plot(dates, labels_2, color=dynamic_colors[2], label=f'State 2 ({dynamic_colors[2]})')\n",
    "plt.plot(dates, labels_3, color=dynamic_colors[3], label=f'State 3 ({dynamic_colors[3]})')\n",
    "\n",
    "plt.xlabel('Date')\n",
    "plt.ylabel('Price ($)')\n",
    "plt.title(f'{symbol} Price with HMM Hidden States')\n",
    "plt.legend()\n",
    "plt.xticks(rotation=45)\n",
    "plt.tight_layout()\n",
    "plt.show()"
   ],
   "outputs": [
    {
     "name": "stdout",
     "output_type": "stream",
     "text": [
      "\n",
      "Final colors:\n",
      "State 0: Returns=-0.012958, Range=0.021261 -> orange\n",
      "State 1: Returns=0.001538, Range=0.007222 -> green\n",
      "State 2: Returns=0.005326, Range=0.014608 -> lightgreen\n",
      "State 3: Returns=-0.003114, Range=0.048789 -> red\n"
     ]
    },
    {
     "data": {
      "text/plain": [
       "<Figure size 1800x800 with 1 Axes>"
      ],
      "image/png": "[encoded data removed]"
     },
     "metadata": {},
     "output_type": "display_data"
    }
   ],
   "execution_count": 21
  },
  {
   "metadata": {
    "ExecuteTime": {
     "end_time": "2025-08-05T23:44:58.512587Z",
     "start_time": "2025-08-05T23:44:58.509490Z"
    }
   },
   "cell_type": "code",
   "source": "",
   "id": "c92bbb239bd4ce71",
   "outputs": [],
   "execution_count": null
  }
 ],
 "metadata": {
  "kernelspec": {
   "display_name": "Python 3",
   "language": "python",
   "name": "python3"
  },
  "language_info": {
   "codemirror_mode": {
    "name": "ipython",
    "version": 2
   },
   "file_extension": ".py",
   "mimetype": "text/x-python",
   "name": "python",
   "nbconvert_exporter": "python",
   "pygments_lexer": "ipython2",
   "version": "2.7.6"
  }
 },
 "nbformat": 4,
 "nbformat_minor": 5
}
